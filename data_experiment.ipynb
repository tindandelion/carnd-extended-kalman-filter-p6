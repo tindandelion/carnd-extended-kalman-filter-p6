{
 "cells": [
  {
   "cell_type": "code",
   "execution_count": 55,
   "metadata": {
    "collapsed": true,
    "deletable": true,
    "editable": true
   },
   "outputs": [],
   "source": [
    "import pandas as pd\n",
    "import numpy as np\n",
    "import math\n",
    "import matplotlib.pyplot as plt\n",
    "%matplotlib inline"
   ]
  },
  {
   "cell_type": "code",
   "execution_count": 2,
   "metadata": {
    "collapsed": false,
    "deletable": true,
    "editable": true
   },
   "outputs": [],
   "source": [
    "with open('data/obj_pose-laser-radar-synthetic-input.txt') as f:\n",
    "    radar = [l for l in f.readlines() if l.startswith('R')]"
   ]
  },
  {
   "cell_type": "code",
   "execution_count": 3,
   "metadata": {
    "collapsed": false,
    "deletable": true,
    "editable": true
   },
   "outputs": [],
   "source": [
    "import io \n",
    "buffer = io.StringIO()\n",
    "for l in radar: \n",
    "    buffer.write(l + \"\\n\")\n",
    "buffer.seek(0)\n",
    "\n",
    "headers = [\n",
    "    'sensor_type', 'rho_measured',\n",
    "    'phi_measured', 'rhodot_measured', \n",
    "    'timestamp', 'x_groundtruth', \n",
    "    'y_groundtruth', 'vx_groundtruth', \n",
    "    'vy_groundtruth', 'yaw_groundtruth', 'yawrate_groundtruth']\n",
    "\n",
    "data = pd.read_csv(buffer, sep=\"\\t\", header=None)\n",
    "data = data.rename(columns=lambda i: headers[int(i)])"
   ]
  },
  {
   "cell_type": "code",
   "execution_count": 4,
   "metadata": {
    "collapsed": false,
    "deletable": true,
    "editable": true
   },
   "outputs": [
    {
     "data": {
      "text/html": [
       "<div>\n",
       "<table border=\"1\" class=\"dataframe\">\n",
       "  <thead>\n",
       "    <tr style=\"text-align: right;\">\n",
       "      <th></th>\n",
       "      <th>sensor_type</th>\n",
       "      <th>rho_measured</th>\n",
       "      <th>phi_measured</th>\n",
       "      <th>rhodot_measured</th>\n",
       "      <th>timestamp</th>\n",
       "      <th>x_groundtruth</th>\n",
       "      <th>y_groundtruth</th>\n",
       "      <th>vx_groundtruth</th>\n",
       "      <th>vy_groundtruth</th>\n",
       "      <th>yaw_groundtruth</th>\n",
       "      <th>yawrate_groundtruth</th>\n",
       "    </tr>\n",
       "  </thead>\n",
       "  <tbody>\n",
       "    <tr>\n",
       "      <th>0</th>\n",
       "      <td>R</td>\n",
       "      <td>1.014892</td>\n",
       "      <td>0.554329</td>\n",
       "      <td>4.892807</td>\n",
       "      <td>1477010443050000</td>\n",
       "      <td>0.859997</td>\n",
       "      <td>0.600045</td>\n",
       "      <td>5.199747</td>\n",
       "      <td>0.001797</td>\n",
       "      <td>0.000346</td>\n",
       "      <td>0.013822</td>\n",
       "    </tr>\n",
       "    <tr>\n",
       "      <th>1</th>\n",
       "      <td>R</td>\n",
       "      <td>1.047505</td>\n",
       "      <td>0.389240</td>\n",
       "      <td>4.511325</td>\n",
       "      <td>1477010443150000</td>\n",
       "      <td>1.379955</td>\n",
       "      <td>0.600629</td>\n",
       "      <td>5.198979</td>\n",
       "      <td>0.010778</td>\n",
       "      <td>0.002073</td>\n",
       "      <td>0.027634</td>\n",
       "    </tr>\n",
       "    <tr>\n",
       "      <th>2</th>\n",
       "      <td>R</td>\n",
       "      <td>1.698300</td>\n",
       "      <td>0.298280</td>\n",
       "      <td>5.209986</td>\n",
       "      <td>1477010443250000</td>\n",
       "      <td>1.899823</td>\n",
       "      <td>0.602470</td>\n",
       "      <td>5.197661</td>\n",
       "      <td>0.026932</td>\n",
       "      <td>0.005182</td>\n",
       "      <td>0.041430</td>\n",
       "    </tr>\n",
       "    <tr>\n",
       "      <th>3</th>\n",
       "      <td>R</td>\n",
       "      <td>2.044382</td>\n",
       "      <td>0.276002</td>\n",
       "      <td>5.043867</td>\n",
       "      <td>1477010443350000</td>\n",
       "      <td>2.419540</td>\n",
       "      <td>0.606284</td>\n",
       "      <td>5.195728</td>\n",
       "      <td>0.050239</td>\n",
       "      <td>0.009669</td>\n",
       "      <td>0.055199</td>\n",
       "    </tr>\n",
       "    <tr>\n",
       "      <th>4</th>\n",
       "      <td>R</td>\n",
       "      <td>2.990916</td>\n",
       "      <td>0.217668</td>\n",
       "      <td>5.191807</td>\n",
       "      <td>1477010443450000</td>\n",
       "      <td>2.939043</td>\n",
       "      <td>0.612786</td>\n",
       "      <td>5.193090</td>\n",
       "      <td>0.080668</td>\n",
       "      <td>0.015532</td>\n",
       "      <td>0.068933</td>\n",
       "    </tr>\n",
       "  </tbody>\n",
       "</table>\n",
       "</div>"
      ],
      "text/plain": [
       "  sensor_type  rho_measured  phi_measured  rhodot_measured         timestamp  \\\n",
       "0           R      1.014892      0.554329         4.892807  1477010443050000   \n",
       "1           R      1.047505      0.389240         4.511325  1477010443150000   \n",
       "2           R      1.698300      0.298280         5.209986  1477010443250000   \n",
       "3           R      2.044382      0.276002         5.043867  1477010443350000   \n",
       "4           R      2.990916      0.217668         5.191807  1477010443450000   \n",
       "\n",
       "   x_groundtruth  y_groundtruth  vx_groundtruth  vy_groundtruth  \\\n",
       "0       0.859997       0.600045        5.199747        0.001797   \n",
       "1       1.379955       0.600629        5.198979        0.010778   \n",
       "2       1.899823       0.602470        5.197661        0.026932   \n",
       "3       2.419540       0.606284        5.195728        0.050239   \n",
       "4       2.939043       0.612786        5.193090        0.080668   \n",
       "\n",
       "   yaw_groundtruth  yawrate_groundtruth  \n",
       "0         0.000346             0.013822  \n",
       "1         0.002073             0.027634  \n",
       "2         0.005182             0.041430  \n",
       "3         0.009669             0.055199  \n",
       "4         0.015532             0.068933  "
      ]
     },
     "execution_count": 4,
     "metadata": {},
     "output_type": "execute_result"
    }
   ],
   "source": [
    "data.head()"
   ]
  },
  {
   "cell_type": "code",
   "execution_count": 52,
   "metadata": {
    "collapsed": false
   },
   "outputs": [],
   "source": [
    "data['phi_ground'] = np.arctan2(data.y_groundtruth, data.x_groundtruth)"
   ]
  },
  {
   "cell_type": "code",
   "execution_count": 54,
   "metadata": {
    "collapsed": false
   },
   "outputs": [],
   "source": [
    "y = data['phi_measured'] - data['phi_ground']"
   ]
  },
  {
   "cell_type": "code",
   "execution_count": 57,
   "metadata": {
    "collapsed": false
   },
   "outputs": [
    {
     "data": {
      "text/plain": [
       "[<matplotlib.lines.Line2D at 0x10be63198>]"
      ]
     },
     "execution_count": 57,
     "metadata": {},
     "output_type": "execute_result"
    },
    {
     "data": {
      "image/png": "[encoded data removed]",
      "text/plain": [
       "<matplotlib.figure.Figure at 0x10bdacd30>"
      ]
     },
     "metadata": {},
     "output_type": "display_data"
    }
   ],
   "source": [
    "plt.plot(data.phi_measured)"
   ]
  },
  {
   "cell_type": "code",
   "execution_count": 58,
   "metadata": {
    "collapsed": false
   },
   "outputs": [
    {
     "data": {
      "text/plain": [
       "[<matplotlib.lines.Line2D at 0x10bf28be0>]"
      ]
     },
     "execution_count": 58,
     "metadata": {},
     "output_type": "execute_result"
    },
    {
     "data": {
      "image/png": "[encoded data removed]",
      "text/plain": [
       "<matplotlib.figure.Figure at 0x10be7f240>"
      ]
     },
     "metadata": {},
     "output_type": "display_data"
    }
   ],
   "source": [
    "plt.plot(data.phi_ground)"
   ]
  },
  {
   "cell_type": "code",
   "execution_count": 74,
   "metadata": {
    "collapsed": true
   },
   "outputs": [],
   "source": [
    "x1, y1 = (-1, 0.1)\n",
    "x2, y2 = (1, -0.2)"
   ]
  },
  {
   "cell_type": "code",
   "execution_count": 75,
   "metadata": {
    "collapsed": true
   },
   "outputs": [],
   "source": [
    "phi1 = math.atan2(y1, x1)\n",
    "phi2 = math.atan2(y2, x2)"
   ]
  },
  {
   "cell_type": "code",
   "execution_count": 76,
   "metadata": {
    "collapsed": false
   },
   "outputs": [
    {
     "data": {
      "text/plain": [
       "3.0419240010986313"
      ]
     },
     "execution_count": 76,
     "metadata": {},
     "output_type": "execute_result"
    }
   ],
   "source": [
    "phi1"
   ]
  },
  {
   "cell_type": "code",
   "execution_count": 77,
   "metadata": {
    "collapsed": false
   },
   "outputs": [
    {
     "data": {
      "text/plain": [
       "-0.19739555984988078"
      ]
     },
     "execution_count": 77,
     "metadata": {},
     "output_type": "execute_result"
    }
   ],
   "source": [
    "phi2"
   ]
  },
  {
   "cell_type": "code",
   "execution_count": 79,
   "metadata": {
    "collapsed": false
   },
   "outputs": [
    {
     "data": {
      "text/plain": [
       "-3.043865746231074"
      ]
     },
     "execution_count": 79,
     "metadata": {},
     "output_type": "execute_result"
    }
   ],
   "source": [
    "phi1 - phi2 - 2 * math.pi"
   ]
  },
  {
   "cell_type": "code",
   "execution_count": null,
   "metadata": {
    "collapsed": true
   },
   "outputs": [],
   "source": []
  }
 ],
 "metadata": {
  "kernelspec": {
   "display_name": "Python 3",
   "language": "python",
   "name": "python3"
  },
  "language_info": {
   "codemirror_mode": {
    "name": "ipython",
    "version": 3
   },
   "file_extension": ".py",
   "mimetype": "text/x-python",
   "name": "python",
   "nbconvert_exporter": "python",
   "pygments_lexer": "ipython3",
   "version": "3.5.2"
  },
  "widgets": {
   "state": {},
   "version": "1.1.2"
  }
 },
 "nbformat": 4,
 "nbformat_minor": 2
}
