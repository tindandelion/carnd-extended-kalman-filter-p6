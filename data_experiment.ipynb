{
 "cells": [
  {
   "cell_type": "code",
   "execution_count": 6,
   "metadata": {
    "collapsed": true,
    "deletable": true,
    "editable": true
   },
   "outputs": [],
   "source": [
    "import pandas as pd\n",
    "import math"
   ]
  },
  {
   "cell_type": "code",
   "execution_count": 2,
   "metadata": {
    "collapsed": false,
    "deletable": true,
    "editable": true
   },
   "outputs": [],
   "source": [
    "with open('data/obj_pose-laser-radar-synthetic-input.txt') as f:\n",
    "    radar = [l for l in f.readlines() if l.startswith('R')]"
   ]
  },
  {
   "cell_type": "code",
   "execution_count": 3,
   "metadata": {
    "collapsed": false,
    "deletable": true,
    "editable": true
   },
   "outputs": [],
   "source": [
    "import io \n",
    "buffer = io.StringIO()\n",
    "for l in radar: \n",
    "    buffer.write(l + \"\\n\")\n",
    "buffer.seek(0)\n",
    "\n",
    "headers = [\n",
    "    'sensor_type', 'rho_measured',\n",
    "    'phi_measured', 'rhodot_measured', \n",
    "    'timestamp', 'x_groundtruth', \n",
    "    'y_groundtruth', 'vx_groundtruth', \n",
    "    'vy_groundtruth', 'yaw_groundtruth', 'yawrate_groundtruth']\n",
    "\n",
    "data = pd.read_csv(buffer, sep=\"\\t\", header=None)\n",
    "data = data.rename(columns=lambda i: headers[int(i)])"
   ]
  },
  {
   "cell_type": "code",
   "execution_count": 4,
   "metadata": {
    "collapsed": false,
    "deletable": true,
    "editable": true
   },
   "outputs": [
    {
     "data": {
      "text/html": [
       "<div>\n",
       "<table border=\"1\" class=\"dataframe\">\n",
       "  <thead>\n",
       "    <tr style=\"text-align: right;\">\n",
       "      <th></th>\n",
       "      <th>sensor_type</th>\n",
       "      <th>rho_measured</th>\n",
       "      <th>phi_measured</th>\n",
       "      <th>rhodot_measured</th>\n",
       "      <th>timestamp</th>\n",
       "      <th>x_groundtruth</th>\n",
       "      <th>y_groundtruth</th>\n",
       "      <th>vx_groundtruth</th>\n",
       "      <th>vy_groundtruth</th>\n",
       "      <th>yaw_groundtruth</th>\n",
       "      <th>yawrate_groundtruth</th>\n",
       "    </tr>\n",
       "  </thead>\n",
       "  <tbody>\n",
       "    <tr>\n",
       "      <th>0</th>\n",
       "      <td>R</td>\n",
       "      <td>1.014892</td>\n",
       "      <td>0.554329</td>\n",
       "      <td>4.892807</td>\n",
       "      <td>1477010443050000</td>\n",
       "      <td>0.859997</td>\n",
       "      <td>0.600045</td>\n",
       "      <td>5.199747</td>\n",
       "      <td>0.001797</td>\n",
       "      <td>0.000346</td>\n",
       "      <td>0.013822</td>\n",
       "    </tr>\n",
       "    <tr>\n",
       "      <th>1</th>\n",
       "      <td>R</td>\n",
       "      <td>1.047505</td>\n",
       "      <td>0.389240</td>\n",
       "      <td>4.511325</td>\n",
       "      <td>1477010443150000</td>\n",
       "      <td>1.379955</td>\n",
       "      <td>0.600629</td>\n",
       "      <td>5.198979</td>\n",
       "      <td>0.010778</td>\n",
       "      <td>0.002073</td>\n",
       "      <td>0.027634</td>\n",
       "    </tr>\n",
       "    <tr>\n",
       "      <th>2</th>\n",
       "      <td>R</td>\n",
       "      <td>1.698300</td>\n",
       "      <td>0.298280</td>\n",
       "      <td>5.209986</td>\n",
       "      <td>1477010443250000</td>\n",
       "      <td>1.899823</td>\n",
       "      <td>0.602470</td>\n",
       "      <td>5.197661</td>\n",
       "      <td>0.026932</td>\n",
       "      <td>0.005182</td>\n",
       "      <td>0.041430</td>\n",
       "    </tr>\n",
       "    <tr>\n",
       "      <th>3</th>\n",
       "      <td>R</td>\n",
       "      <td>2.044382</td>\n",
       "      <td>0.276002</td>\n",
       "      <td>5.043867</td>\n",
       "      <td>1477010443350000</td>\n",
       "      <td>2.419540</td>\n",
       "      <td>0.606284</td>\n",
       "      <td>5.195728</td>\n",
       "      <td>0.050239</td>\n",
       "      <td>0.009669</td>\n",
       "      <td>0.055199</td>\n",
       "    </tr>\n",
       "    <tr>\n",
       "      <th>4</th>\n",
       "      <td>R</td>\n",
       "      <td>2.990916</td>\n",
       "      <td>0.217668</td>\n",
       "      <td>5.191807</td>\n",
       "      <td>1477010443450000</td>\n",
       "      <td>2.939043</td>\n",
       "      <td>0.612786</td>\n",
       "      <td>5.193090</td>\n",
       "      <td>0.080668</td>\n",
       "      <td>0.015532</td>\n",
       "      <td>0.068933</td>\n",
       "    </tr>\n",
       "  </tbody>\n",
       "</table>\n",
       "</div>"
      ],
      "text/plain": [
       "  sensor_type  rho_measured  phi_measured  rhodot_measured         timestamp  \\\n",
       "0           R      1.014892      0.554329         4.892807  1477010443050000   \n",
       "1           R      1.047505      0.389240         4.511325  1477010443150000   \n",
       "2           R      1.698300      0.298280         5.209986  1477010443250000   \n",
       "3           R      2.044382      0.276002         5.043867  1477010443350000   \n",
       "4           R      2.990916      0.217668         5.191807  1477010443450000   \n",
       "\n",
       "   x_groundtruth  y_groundtruth  vx_groundtruth  vy_groundtruth  \\\n",
       "0       0.859997       0.600045        5.199747        0.001797   \n",
       "1       1.379955       0.600629        5.198979        0.010778   \n",
       "2       1.899823       0.602470        5.197661        0.026932   \n",
       "3       2.419540       0.606284        5.195728        0.050239   \n",
       "4       2.939043       0.612786        5.193090        0.080668   \n",
       "\n",
       "   yaw_groundtruth  yawrate_groundtruth  \n",
       "0         0.000346             0.013822  \n",
       "1         0.002073             0.027634  \n",
       "2         0.005182             0.041430  \n",
       "3         0.009669             0.055199  \n",
       "4         0.015532             0.068933  "
      ]
     },
     "execution_count": 4,
     "metadata": {},
     "output_type": "execute_result"
    }
   ],
   "source": [
    "data.head()"
   ]
  },
  {
   "cell_type": "code",
   "execution_count": null,
   "metadata": {
    "collapsed": false,
    "deletable": true,
    "editable": true
   },
   "outputs": [],
   "source": [
    "x = data.loc[0]['x_groundtruth']\n",
    "y = data.loc[0]['y_groundtruth']"
   ]
  },
  {
   "cell_type": "code",
   "execution_count": 27,
   "metadata": {
    "collapsed": false,
    "deletable": true,
    "editable": true
   },
   "outputs": [],
   "source": [
    "def calc_phi(row):\n",
    "    x, y = row['x_groundtruth'], row['y_groundtruth']\n",
    "    return math.atan2(y, x)\n",
    "\n",
    "data['phi_calc'] = data.apply(calc_phi, axis=1)"
   ]
  },
  {
   "cell_type": "code",
   "execution_count": null,
   "metadata": {
    "collapsed": false,
    "deletable": true,
    "editable": true
   },
   "outputs": [],
   "source": [
    "math.atan2(100, 0) - math.pi / 2"
   ]
  },
  {
   "cell_type": "code",
   "execution_count": null,
   "metadata": {
    "collapsed": false,
    "deletable": true,
    "editable": true
   },
   "outputs": [],
   "source": [
    "math.pi"
   ]
  },
  {
   "cell_type": "code",
   "execution_count": null,
   "metadata": {
    "collapsed": false,
    "deletable": true,
    "editable": true
   },
   "outputs": [],
   "source": [
    "data[['x_groundtruth', 'y_groundtruth']].describe()"
   ]
  },
  {
   "cell_type": "code",
   "execution_count": 8,
   "metadata": {
    "collapsed": true
   },
   "outputs": [],
   "source": [
    "import matplotlib.pyplot as plt\n",
    "%matplotlib inline"
   ]
  },
  {
   "cell_type": "code",
   "execution_count": 19,
   "metadata": {
    "collapsed": false
   },
   "outputs": [
    {
     "data": {
      "text/plain": [
       "[<matplotlib.lines.Line2D at 0x10b4d3080>]"
      ]
     },
     "execution_count": 19,
     "metadata": {},
     "output_type": "execute_result"
    },
    {
     "data": {
      "image/png": "[encoded data removed]",
      "text/plain": [
       "<matplotlib.figure.Figure at 0x10b422278>"
      ]
     },
     "metadata": {},
     "output_type": "display_data"
    }
   ],
   "source": [
    "plt.plot(data['y_groundtruth'], data['phi_measured'])"
   ]
  },
  {
   "cell_type": "code",
   "execution_count": 30,
   "metadata": {
    "collapsed": false
   },
   "outputs": [
    {
     "data": {
      "text/plain": [
       "[<matplotlib.lines.Line2D at 0x10b949630>]"
      ]
     },
     "execution_count": 30,
     "metadata": {},
     "output_type": "execute_result"
    },
    {
     "data": {
      "image/png": "[encoded data removed]",
      "text/plain": [
       "<matplotlib.figure.Figure at 0x10b8fa0b8>"
      ]
     },
     "metadata": {},
     "output_type": "display_data"
    }
   ],
   "source": [
    "plt.plot(data['phi_calc'])"
   ]
  },
  {
   "cell_type": "code",
   "execution_count": 33,
   "metadata": {
    "collapsed": false
   },
   "outputs": [],
   "source": [
    "import numpy as np"
   ]
  },
  {
   "cell_type": "code",
   "execution_count": 36,
   "metadata": {
    "collapsed": false
   },
   "outputs": [
    {
     "data": {
      "text/plain": [
       "[<matplotlib.lines.Line2D at 0x10bb39470>]"
      ]
     },
     "execution_count": 36,
     "metadata": {},
     "output_type": "execute_result"
    },
    {
     "data": {
      "image/png": "[encoded data removed]",
      "text/plain": [
       "<matplotlib.figure.Figure at 0x10ba93a90>"
      ]
     },
     "metadata": {},
     "output_type": "display_data"
    }
   ],
   "source": [
    "plt.plot(np.tan(data['phi_calc']) > 0)"
   ]
  },
  {
   "cell_type": "code",
   "execution_count": 38,
   "metadata": {
    "collapsed": false
   },
   "outputs": [
    {
     "data": {
      "text/plain": [
       "[<matplotlib.lines.Line2D at 0x10bcb9d68>]"
      ]
     },
     "execution_count": 38,
     "metadata": {},
     "output_type": "execute_result"
    },
    {
     "data": {
      "image/png": "[encoded data removed]",
      "text/plain": [
       "<matplotlib.figure.Figure at 0x10bc1a240>"
      ]
     },
     "metadata": {},
     "output_type": "display_data"
    }
   ],
   "source": [
    "plt.plot(data['phi_measured'])"
   ]
  },
  {
   "cell_type": "code",
   "execution_count": null,
   "metadata": {
    "collapsed": true
   },
   "outputs": [],
   "source": []
  }
 ],
 "metadata": {
  "kernelspec": {
   "display_name": "Python 3",
   "language": "python",
   "name": "python3"
  },
  "language_info": {
   "codemirror_mode": {
    "name": "ipython",
    "version": 3
   },
   "file_extension": ".py",
   "mimetype": "text/x-python",
   "name": "python",
   "nbconvert_exporter": "python",
   "pygments_lexer": "ipython3",
   "version": "3.5.2"
  },
  "widgets": {
   "state": {},
   "version": "1.1.2"
  }
 },
 "nbformat": 4,
 "nbformat_minor": 2
}
